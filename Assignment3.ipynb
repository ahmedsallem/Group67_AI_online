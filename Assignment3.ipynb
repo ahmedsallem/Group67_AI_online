{
 "cells": [
  {
   "cell_type": "markdown",
   "id": "148bc96a",
   "metadata": {},
   "source": [
    "# Task1\n",
    "Implement Fibonacci series using recursion."
   ]
  },
  {
   "cell_type": "code",
   "execution_count": null,
   "id": "1b68769b",
   "metadata": {},
   "outputs": [],
   "source": []
  },
  {
   "cell_type": "markdown",
   "id": "7f183270",
   "metadata": {},
   "source": [
    "# Task2\n",
    "Write a Python program to find all the unique words and count the frequency of \n",
    "occurrence from a given list of strings."
   ]
  },
  {
   "cell_type": "code",
   "execution_count": null,
   "id": "d0dd47f9",
   "metadata": {},
   "outputs": [],
   "source": []
  },
  {
   "cell_type": "markdown",
   "id": "94b572a4",
   "metadata": {},
   "source": [
    "# Task3\n",
    "Write a Python program that finds all pairs of elements in a list whose sum is equal to a \n",
    "given value.\n"
   ]
  },
  {
   "cell_type": "code",
   "execution_count": null,
   "id": "828ee86b",
   "metadata": {},
   "outputs": [],
   "source": []
  },
  {
   "cell_type": "markdown",
   "id": "a5a74b78",
   "metadata": {},
   "source": [
    "# Task4\n",
    "Write a Python program to find the two numbers whose product is maximum among all \n",
    "the pairs in a given list of numbers\n"
   ]
  },
  {
   "cell_type": "code",
   "execution_count": null,
   "id": "5e422510",
   "metadata": {},
   "outputs": [],
   "source": []
  },
  {
   "cell_type": "markdown",
   "id": "26eb9e76",
   "metadata": {},
   "source": [
    "# Task5\n",
    "Write a Python function that takes a number as a parameter and checks whether the \n",
    "number is prime or not."
   ]
  },
  {
   "cell_type": "code",
   "execution_count": null,
   "id": "73a8cc9e",
   "metadata": {},
   "outputs": [],
   "source": []
  },
  {
   "cell_type": "markdown",
   "id": "43e20f1b",
   "metadata": {},
   "source": [
    "# Task6\n",
    "Write a Python function to print the even numbers from a given list.\n",
    "\n",
    "lst = [1, 2, 3, 4, 5, 6, 7, 8, 9]"
   ]
  },
  {
   "cell_type": "code",
   "execution_count": null,
   "id": "a4c12b6c",
   "metadata": {},
   "outputs": [],
   "source": []
  },
  {
   "cell_type": "markdown",
   "id": "f3f345dd",
   "metadata": {},
   "source": [
    "# Task7\n",
    "Write a function that will take a given string and reverse the order of words.\n",
    "Ex:\n",
    "“Hello world” →”world Hello”"
   ]
  },
  {
   "cell_type": "code",
   "execution_count": null,
   "id": "f197a7fa",
   "metadata": {},
   "outputs": [],
   "source": []
  },
  {
   "cell_type": "markdown",
   "id": "823b3fe1",
   "metadata": {},
   "source": [
    "# Task8\n",
    "Given an integer x, return true if x is a palindrome, and false otherwise.\n",
    "   \n",
    "       Example 1:\n",
    "\n",
    "       Input: x = 121\n",
    "\n",
    "       Output: true\n",
    "\n",
    "       Explanation: 121 reads as 121 from left to right and from right to left.\n",
    "\n",
    "       Example 2:\n",
    "\n",
    "       Input: x = -121\n",
    "\n",
    "       Output: false\n",
    "    Explanation: From left to right, it reads -121. From right to left, it becomes 121-. Therefore, it is not a palindrome.\n",
    "\n",
    "        Example 3:\n",
    "\n",
    "        Input: x = 10\n",
    "\n",
    "        Output: false\n",
    "\n",
    "        Explanation: Reads 01 from right to left. Therefore, it is not a palindrome"
   ]
  },
  {
   "cell_type": "code",
   "execution_count": null,
   "id": "8ac91aa2",
   "metadata": {},
   "outputs": [],
   "source": []
  },
  {
   "cell_type": "markdown",
   "id": "84044d94",
   "metadata": {},
   "source": [
    "# Task8\n",
    "Write a Python function that checks whether a passed string is a palindrome or not.\n"
   ]
  },
  {
   "cell_type": "code",
   "execution_count": null,
   "id": "904ae587",
   "metadata": {},
   "outputs": [],
   "source": []
  },
  {
   "cell_type": "markdown",
   "id": "4444e26b",
   "metadata": {},
   "source": [
    "# Task9\n",
    "Write a Python function to create and print a list where the values are the squares of numbers \n",
    "between 1 and 30 (both included)."
   ]
  },
  {
   "cell_type": "code",
   "execution_count": null,
   "id": "4616ef24",
   "metadata": {},
   "outputs": [],
   "source": []
  },
  {
   "cell_type": "markdown",
   "id": "1358514d",
   "metadata": {},
   "source": [
    "# Task10\n",
    "Write a Python function to generate all permutations of a list."
   ]
  },
  {
   "cell_type": "code",
   "execution_count": null,
   "id": "8fbf76b3",
   "metadata": {},
   "outputs": [],
   "source": []
  },
  {
   "cell_type": "markdown",
   "id": "e7555048",
   "metadata": {},
   "source": [
    "# Task11\n",
    "Write a Python program to access a function inside a function"
   ]
  },
  {
   "cell_type": "code",
   "execution_count": null,
   "id": "df891ff9",
   "metadata": {},
   "outputs": [],
   "source": []
  },
  {
   "cell_type": "markdown",
   "id": "f6c1495a",
   "metadata": {},
   "source": [
    "# Task12\n",
    "After you have finished the third session, can you explain briefly what information was learned and also what information you learned through the search?"
   ]
  },
  {
   "cell_type": "code",
   "execution_count": null,
   "id": "4aa1f2b3",
   "metadata": {},
   "outputs": [],
   "source": []
  }
 ],
 "metadata": {
  "kernelspec": {
   "display_name": "Python 3 (ipykernel)",
   "language": "python",
   "name": "python3"
  },
  "language_info": {
   "codemirror_mode": {
    "name": "ipython",
    "version": 3
   },
   "file_extension": ".py",
   "mimetype": "text/x-python",
   "name": "python",
   "nbconvert_exporter": "python",
   "pygments_lexer": "ipython3",
   "version": "3.10.9"
  }
 },
 "nbformat": 4,
 "nbformat_minor": 5
}
